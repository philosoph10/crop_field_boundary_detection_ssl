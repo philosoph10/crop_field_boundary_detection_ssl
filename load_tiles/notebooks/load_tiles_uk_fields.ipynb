{
 "cells": [
  {
   "cell_type": "code",
   "execution_count": 1,
   "metadata": {},
   "outputs": [],
   "source": [
    "import random\n",
    "\n",
    "import pandas as pd\n",
    "import geopandas as gpd\n",
    "from tqdm import tqdm\n",
    "import numpy as np\n",
    "from shapely.validation import make_valid\n",
    "from shapely.geometry import MultiPolygon, box\n",
    "from shapely import union_all"
   ]
  },
  {
   "cell_type": "markdown",
   "metadata": {},
   "source": [
    "# Load Sentinel-2 tiles"
   ]
  },
  {
   "cell_type": "code",
   "execution_count": 2,
   "metadata": {},
   "outputs": [],
   "source": [
    "# Step 1: Load the Sentinel-2 MGRS grid (replace with your downloaded file)\n",
    "mgrs_grid_path = \"/Users/Shared/Quantum/Projects/plot_boundary_detection/data/ssl_geometries/grid.geojson\"  # Downloaded MGRS grid file\n",
    "mgrs_gdf = gpd.read_file(mgrs_grid_path)\n",
    "\n",
    "# Ensure the grid is in a projected CRS (e.g., EPSG:27700 for your fields)\n",
    "if mgrs_gdf.crs is None or mgrs_gdf.crs.to_epsg() != 27700:\n",
    "    mgrs_gdf = mgrs_gdf.to_crs(\"EPSG:27700\")"
   ]
  },
  {
   "cell_type": "code",
   "execution_count": null,
   "metadata": {},
   "outputs": [],
   "source": [
    "# Step 2: Load your crop fields\n",
    "fields_path = \"/Users/Shared/Quantum/Projects/plot_boundary_detection/data/ssl_geometries/ukfields.parquet\"  # Replace with your Parquet file path\n",
    "fields_gdf = gpd.read_parquet(fields_path)\n",
    "\n",
    "# Ensure the fields are in EPSG:27700\n",
    "if fields_gdf.crs is None:\n",
    "    fields_gdf.set_crs(\"EPSG:27700\", inplace=True)\n",
    "elif fields_gdf.crs != \"EPSG:27700\":\n",
    "    fields_gdf = fields_gdf.to_crs(\"EPSG:27700\")"
   ]
  },
  {
   "cell_type": "code",
   "execution_count": 5,
   "metadata": {},
   "outputs": [
    {
     "data": {
      "text/plain": [
       "56686"
      ]
     },
     "execution_count": 5,
     "metadata": {},
     "output_type": "execute_result"
    }
   ],
   "source": [
    "mgrs_gdf.shape[0]"
   ]
  },
  {
   "cell_type": "code",
   "execution_count": 6,
   "metadata": {},
   "outputs": [
    {
     "data": {
      "text/html": [
       "<div>\n",
       "<style scoped>\n",
       "    .dataframe tbody tr th:only-of-type {\n",
       "        vertical-align: middle;\n",
       "    }\n",
       "\n",
       "    .dataframe tbody tr th {\n",
       "        vertical-align: top;\n",
       "    }\n",
       "\n",
       "    .dataframe thead th {\n",
       "        text-align: right;\n",
       "    }\n",
       "</style>\n",
       "<table border=\"1\" class=\"dataframe\">\n",
       "  <thead>\n",
       "    <tr style=\"text-align: right;\">\n",
       "      <th></th>\n",
       "      <th>name</th>\n",
       "      <th>id</th>\n",
       "      <th>epsg</th>\n",
       "      <th>mgrsRef</th>\n",
       "      <th>utmWkt</th>\n",
       "      <th>llWkt</th>\n",
       "      <th>geometry</th>\n",
       "    </tr>\n",
       "  </thead>\n",
       "  <tbody>\n",
       "    <tr>\n",
       "      <th>0</th>\n",
       "      <td>01CCV</td>\n",
       "      <td>01CCV</td>\n",
       "      <td>32701</td>\n",
       "      <td>-72.01265627 177.18928449 -72.077536527 -179.9...</td>\n",
       "      <td>MULTIPOLYGON(((300000 2000020,300000 1890220,4...</td>\n",
       "      <td>MULTIPOLYGON(((177.189340361676 -72.0124778858...</td>\n",
       "      <td>GEOMETRYCOLLECTION Z (POLYGON Z ((334972.535 -...</td>\n",
       "    </tr>\n",
       "    <tr>\n",
       "      <th>1</th>\n",
       "      <td>01CDH</td>\n",
       "      <td>01CDH</td>\n",
       "      <td>32701</td>\n",
       "      <td>-82.796942202 175.83834491 -82.852560274 -177 ...</td>\n",
       "      <td>MULTIPOLYGON(((399960 800020,399960 690220,509...</td>\n",
       "      <td>MULTIPOLYGON(((175.835686552199 -82.7967201119...</td>\n",
       "      <td>GEOMETRYCOLLECTION Z (POLYGON Z ((375925.146 -...</td>\n",
       "    </tr>\n",
       "    <tr>\n",
       "      <th>2</th>\n",
       "      <td>01CDJ</td>\n",
       "      <td>01CDJ</td>\n",
       "      <td>32701</td>\n",
       "      <td>-81.907342379 176.62455327 -81.956740238 -177 ...</td>\n",
       "      <td>MULTIPOLYGON(((399960 900040,399960 790240,509...</td>\n",
       "      <td>MULTIPOLYGON(((176.62230379644 -81.90694685766...</td>\n",
       "      <td>GEOMETRYCOLLECTION Z (POLYGON Z ((372461.541 -...</td>\n",
       "    </tr>\n",
       "    <tr>\n",
       "      <th>3</th>\n",
       "      <td>01CDK</td>\n",
       "      <td>01CDK</td>\n",
       "      <td>32701</td>\n",
       "      <td>-81.01647427 177.25448324 -81.060880975 -177 -...</td>\n",
       "      <td>MULTIPOLYGON(((399960 1000000,399960 890200,50...</td>\n",
       "      <td>MULTIPOLYGON(((177.252200236163 -81.0164388283...</td>\n",
       "      <td>GEOMETRYCOLLECTION Z (POLYGON Z ((369006.023 -...</td>\n",
       "    </tr>\n",
       "    <tr>\n",
       "      <th>4</th>\n",
       "      <td>01CDL</td>\n",
       "      <td>01CDL</td>\n",
       "      <td>32701</td>\n",
       "      <td>-80.124666236 177.77028412 -80.164978249 -177 ...</td>\n",
       "      <td>MULTIPOLYGON(((399960 1100020,399960 990220,50...</td>\n",
       "      <td>MULTIPOLYGON(((177.768297510956 -80.1244556090...</td>\n",
       "      <td>GEOMETRYCOLLECTION Z (POLYGON Z ((365555.504 -...</td>\n",
       "    </tr>\n",
       "  </tbody>\n",
       "</table>\n",
       "</div>"
      ],
      "text/plain": [
       "    name     id   epsg                                            mgrsRef  \\\n",
       "0  01CCV  01CCV  32701  -72.01265627 177.18928449 -72.077536527 -179.9...   \n",
       "1  01CDH  01CDH  32701  -82.796942202 175.83834491 -82.852560274 -177 ...   \n",
       "2  01CDJ  01CDJ  32701  -81.907342379 176.62455327 -81.956740238 -177 ...   \n",
       "3  01CDK  01CDK  32701  -81.01647427 177.25448324 -81.060880975 -177 -...   \n",
       "4  01CDL  01CDL  32701  -80.124666236 177.77028412 -80.164978249 -177 ...   \n",
       "\n",
       "                                              utmWkt  \\\n",
       "0  MULTIPOLYGON(((300000 2000020,300000 1890220,4...   \n",
       "1  MULTIPOLYGON(((399960 800020,399960 690220,509...   \n",
       "2  MULTIPOLYGON(((399960 900040,399960 790240,509...   \n",
       "3  MULTIPOLYGON(((399960 1000000,399960 890200,50...   \n",
       "4  MULTIPOLYGON(((399960 1100020,399960 990220,50...   \n",
       "\n",
       "                                               llWkt  \\\n",
       "0  MULTIPOLYGON(((177.189340361676 -72.0124778858...   \n",
       "1  MULTIPOLYGON(((175.835686552199 -82.7967201119...   \n",
       "2  MULTIPOLYGON(((176.62230379644 -81.90694685766...   \n",
       "3  MULTIPOLYGON(((177.252200236163 -81.0164388283...   \n",
       "4  MULTIPOLYGON(((177.768297510956 -80.1244556090...   \n",
       "\n",
       "                                            geometry  \n",
       "0  GEOMETRYCOLLECTION Z (POLYGON Z ((334972.535 -...  \n",
       "1  GEOMETRYCOLLECTION Z (POLYGON Z ((375925.146 -...  \n",
       "2  GEOMETRYCOLLECTION Z (POLYGON Z ((372461.541 -...  \n",
       "3  GEOMETRYCOLLECTION Z (POLYGON Z ((369006.023 -...  \n",
       "4  GEOMETRYCOLLECTION Z (POLYGON Z ((365555.504 -...  "
      ]
     },
     "execution_count": 6,
     "metadata": {},
     "output_type": "execute_result"
    }
   ],
   "source": [
    "mgrs_gdf.head()"
   ]
  },
  {
   "cell_type": "code",
   "execution_count": 2,
   "metadata": {},
   "outputs": [],
   "source": [
    "def efficient_intersection_with_validation(gdf1, gdf2):\n",
    "    \"\"\"\n",
    "    Finds all rows in gdf1 that intersect with at least one geometry in gdf2, with validation and a progress bar.\n",
    "\n",
    "    Parameters:\n",
    "        gdf1 (GeoDataFrame): The first GeoDataFrame.\n",
    "        gdf2 (GeoDataFrame): The second GeoDataFrame.\n",
    "\n",
    "    Returns:\n",
    "        GeoDataFrame: A subset of gdf1 with rows that intersect gdf2.\n",
    "    \"\"\"\n",
    "    # Ensure CRS match\n",
    "    if gdf1.crs != gdf2.crs:\n",
    "        raise ValueError(\"CRS of gdf1 and gdf2 must match.\")\n",
    "    \n",
    "    # Validate and fix invalid geometries\n",
    "    gdf1 = gdf1[gdf1['geometry'].notnull()].copy()  # Remove NaN geometries\n",
    "    gdf2 = gdf2[gdf2['geometry'].notnull()].copy()\n",
    "\n",
    "    # gdf1['geometry'] = gdf1['geometry'].apply(lambda geom: make_valid(geom) if not geom.is_valid else geom)\n",
    "    # gdf2['geometry'] = gdf2['geometry'].apply(lambda geom: make_valid(geom) if not geom.is_valid else geom)\n",
    "    gdf1['geometry'] = gdf1['geometry'].apply(lambda geom: geom.buffer(0) if not geom.is_valid else geom)\n",
    "    gdf2['geometry'] = gdf2['geometry'].apply(lambda geom: geom.buffer(0) if not geom.is_valid else geom)\n",
    "\n",
    "    # Build spatial index for gdf2\n",
    "    sindex = gdf2.sindex\n",
    "\n",
    "    # Initialize a list to store intersection results\n",
    "    intersects = []\n",
    "\n",
    "    # Iterate through gdf1 with a progress bar\n",
    "    for _, row in tqdm(gdf1.iterrows(), total=len(gdf1), desc=\"Processing geometries\"):\n",
    "        if row.geometry.is_empty or row.geometry is None:\n",
    "            intersects.append(False)\n",
    "            continue\n",
    "\n",
    "        possible_matches_index = list(sindex.intersection(row.geometry.bounds))\n",
    "        possible_matches = gdf2.iloc[possible_matches_index]\n",
    "        \n",
    "        try:\n",
    "            intersects.append(possible_matches.intersects(row.geometry).any())\n",
    "        except Exception as e:\n",
    "            print(f\"Warning: Skipping an invalid geometry at index {_}. Error: {e}\")\n",
    "            intersects.append(False)\n",
    "\n",
    "    # Add intersects column to gdf1\n",
    "    gdf1['intersects'] = intersects\n",
    "\n",
    "    # Filter rows where intersection is true\n",
    "    result = gdf1[gdf1['intersects']].drop(columns=['intersects'])\n",
    "\n",
    "    return result"
   ]
  },
  {
   "cell_type": "code",
   "execution_count": 8,
   "metadata": {},
   "outputs": [
    {
     "name": "stderr",
     "output_type": "stream",
     "text": [
      "/Users/Shared/Quantum/Projects/plot_boundary_detection/code/load_tiles/.venv/lib/python3.9/site-packages/shapely/constructive.py:180: RuntimeWarning: divide by zero encountered in buffer\n",
      "  return lib.buffer(\n",
      "/Users/Shared/Quantum/Projects/plot_boundary_detection/code/load_tiles/.venv/lib/python3.9/site-packages/shapely/constructive.py:180: RuntimeWarning: invalid value encountered in buffer\n",
      "  return lib.buffer(\n",
      "/Users/Shared/Quantum/Projects/plot_boundary_detection/code/load_tiles/.venv/lib/python3.9/site-packages/shapely/constructive.py:180: RuntimeWarning: divide by zero encountered in buffer\n",
      "  return lib.buffer(\n",
      "/Users/Shared/Quantum/Projects/plot_boundary_detection/code/load_tiles/.venv/lib/python3.9/site-packages/shapely/constructive.py:180: RuntimeWarning: invalid value encountered in buffer\n",
      "  return lib.buffer(\n",
      "/Users/Shared/Quantum/Projects/plot_boundary_detection/code/load_tiles/.venv/lib/python3.9/site-packages/shapely/constructive.py:180: RuntimeWarning: divide by zero encountered in buffer\n",
      "  return lib.buffer(\n",
      "/Users/Shared/Quantum/Projects/plot_boundary_detection/code/load_tiles/.venv/lib/python3.9/site-packages/shapely/constructive.py:180: RuntimeWarning: invalid value encountered in buffer\n",
      "  return lib.buffer(\n",
      "/Users/Shared/Quantum/Projects/plot_boundary_detection/code/load_tiles/.venv/lib/python3.9/site-packages/shapely/constructive.py:180: RuntimeWarning: divide by zero encountered in buffer\n",
      "  return lib.buffer(\n",
      "/Users/Shared/Quantum/Projects/plot_boundary_detection/code/load_tiles/.venv/lib/python3.9/site-packages/shapely/constructive.py:180: RuntimeWarning: invalid value encountered in buffer\n",
      "  return lib.buffer(\n",
      "/Users/Shared/Quantum/Projects/plot_boundary_detection/code/load_tiles/.venv/lib/python3.9/site-packages/shapely/constructive.py:180: RuntimeWarning: divide by zero encountered in buffer\n",
      "  return lib.buffer(\n",
      "/Users/Shared/Quantum/Projects/plot_boundary_detection/code/load_tiles/.venv/lib/python3.9/site-packages/shapely/constructive.py:180: RuntimeWarning: invalid value encountered in buffer\n",
      "  return lib.buffer(\n",
      "/Users/Shared/Quantum/Projects/plot_boundary_detection/code/load_tiles/.venv/lib/python3.9/site-packages/shapely/constructive.py:180: RuntimeWarning: divide by zero encountered in buffer\n",
      "  return lib.buffer(\n",
      "/Users/Shared/Quantum/Projects/plot_boundary_detection/code/load_tiles/.venv/lib/python3.9/site-packages/shapely/constructive.py:180: RuntimeWarning: invalid value encountered in buffer\n",
      "  return lib.buffer(\n",
      "/Users/Shared/Quantum/Projects/plot_boundary_detection/code/load_tiles/.venv/lib/python3.9/site-packages/shapely/constructive.py:180: RuntimeWarning: divide by zero encountered in buffer\n",
      "  return lib.buffer(\n",
      "/Users/Shared/Quantum/Projects/plot_boundary_detection/code/load_tiles/.venv/lib/python3.9/site-packages/shapely/constructive.py:180: RuntimeWarning: invalid value encountered in buffer\n",
      "  return lib.buffer(\n",
      "/Users/Shared/Quantum/Projects/plot_boundary_detection/code/load_tiles/.venv/lib/python3.9/site-packages/shapely/constructive.py:180: RuntimeWarning: divide by zero encountered in buffer\n",
      "  return lib.buffer(\n",
      "/Users/Shared/Quantum/Projects/plot_boundary_detection/code/load_tiles/.venv/lib/python3.9/site-packages/shapely/constructive.py:180: RuntimeWarning: invalid value encountered in buffer\n",
      "  return lib.buffer(\n",
      "/Users/Shared/Quantum/Projects/plot_boundary_detection/code/load_tiles/.venv/lib/python3.9/site-packages/shapely/constructive.py:180: RuntimeWarning: divide by zero encountered in buffer\n",
      "  return lib.buffer(\n",
      "/Users/Shared/Quantum/Projects/plot_boundary_detection/code/load_tiles/.venv/lib/python3.9/site-packages/shapely/constructive.py:180: RuntimeWarning: invalid value encountered in buffer\n",
      "  return lib.buffer(\n",
      "/Users/Shared/Quantum/Projects/plot_boundary_detection/code/load_tiles/.venv/lib/python3.9/site-packages/shapely/constructive.py:180: RuntimeWarning: divide by zero encountered in buffer\n",
      "  return lib.buffer(\n",
      "/Users/Shared/Quantum/Projects/plot_boundary_detection/code/load_tiles/.venv/lib/python3.9/site-packages/shapely/constructive.py:180: RuntimeWarning: invalid value encountered in buffer\n",
      "  return lib.buffer(\n",
      "/Users/Shared/Quantum/Projects/plot_boundary_detection/code/load_tiles/.venv/lib/python3.9/site-packages/shapely/constructive.py:180: RuntimeWarning: divide by zero encountered in buffer\n",
      "  return lib.buffer(\n",
      "/Users/Shared/Quantum/Projects/plot_boundary_detection/code/load_tiles/.venv/lib/python3.9/site-packages/shapely/constructive.py:180: RuntimeWarning: invalid value encountered in buffer\n",
      "  return lib.buffer(\n",
      "/Users/Shared/Quantum/Projects/plot_boundary_detection/code/load_tiles/.venv/lib/python3.9/site-packages/shapely/constructive.py:180: RuntimeWarning: divide by zero encountered in buffer\n",
      "  return lib.buffer(\n",
      "/Users/Shared/Quantum/Projects/plot_boundary_detection/code/load_tiles/.venv/lib/python3.9/site-packages/shapely/constructive.py:180: RuntimeWarning: invalid value encountered in buffer\n",
      "  return lib.buffer(\n",
      "/Users/Shared/Quantum/Projects/plot_boundary_detection/code/load_tiles/.venv/lib/python3.9/site-packages/shapely/constructive.py:180: RuntimeWarning: divide by zero encountered in buffer\n",
      "  return lib.buffer(\n",
      "/Users/Shared/Quantum/Projects/plot_boundary_detection/code/load_tiles/.venv/lib/python3.9/site-packages/shapely/constructive.py:180: RuntimeWarning: invalid value encountered in buffer\n",
      "  return lib.buffer(\n",
      "/Users/Shared/Quantum/Projects/plot_boundary_detection/code/load_tiles/.venv/lib/python3.9/site-packages/shapely/constructive.py:180: RuntimeWarning: divide by zero encountered in buffer\n",
      "  return lib.buffer(\n",
      "/Users/Shared/Quantum/Projects/plot_boundary_detection/code/load_tiles/.venv/lib/python3.9/site-packages/shapely/constructive.py:180: RuntimeWarning: invalid value encountered in buffer\n",
      "  return lib.buffer(\n",
      "Processing geometries: 100%|██████████████████████████████████████████████████████████████████████████████████| 56686/56686 [01:59<00:00, 474.10it/s]\n"
     ]
    }
   ],
   "source": [
    "intersecting_tiles_gdf = efficient_intersection_with_validation(mgrs_gdf, fields_gdf)"
   ]
  },
  {
   "cell_type": "code",
   "execution_count": 9,
   "metadata": {},
   "outputs": [
    {
     "data": {
      "text/html": [
       "<div>\n",
       "<style scoped>\n",
       "    .dataframe tbody tr th:only-of-type {\n",
       "        vertical-align: middle;\n",
       "    }\n",
       "\n",
       "    .dataframe tbody tr th {\n",
       "        vertical-align: top;\n",
       "    }\n",
       "\n",
       "    .dataframe thead th {\n",
       "        text-align: right;\n",
       "    }\n",
       "</style>\n",
       "<table border=\"1\" class=\"dataframe\">\n",
       "  <thead>\n",
       "    <tr style=\"text-align: right;\">\n",
       "      <th></th>\n",
       "      <th>name</th>\n",
       "      <th>id</th>\n",
       "      <th>epsg</th>\n",
       "      <th>mgrsRef</th>\n",
       "      <th>utmWkt</th>\n",
       "      <th>llWkt</th>\n",
       "      <th>geometry</th>\n",
       "    </tr>\n",
       "  </thead>\n",
       "  <tbody>\n",
       "    <tr>\n",
       "      <th>462</th>\n",
       "      <td>01MAV</td>\n",
       "      <td>01MAV</td>\n",
       "      <td>32701</td>\n",
       "      <td>0 179.4076728 0 -179.69502322 -0.90372312093 -...</td>\n",
       "      <td>MULTIPOLYGON(((99960 10000000,99960 9890200,20...</td>\n",
       "      <td>MULTIPOLYGON(((179.407314038588 0,179.40677899...</td>\n",
       "      <td>GEOMETRYCOLLECTION Z (POLYGON Z ((177457.46 -2...</td>\n",
       "    </tr>\n",
       "    <tr>\n",
       "      <th>471</th>\n",
       "      <td>01MBV</td>\n",
       "      <td>01MBV</td>\n",
       "      <td>32701</td>\n",
       "      <td>0 -179.69502322 0 -178.79705281 -0.90428260986...</td>\n",
       "      <td>MULTIPOLYGON(((199980 10000000,199980 9890200,...</td>\n",
       "      <td>MULTIPOLYGON(((-179.695202757055 0,-179.695604...</td>\n",
       "      <td>GEOMETRYCOLLECTION Z (POLYGON Z ((143486.857 1...</td>\n",
       "    </tr>\n",
       "    <tr>\n",
       "      <th>480</th>\n",
       "      <td>01MCV</td>\n",
       "      <td>01MCV</td>\n",
       "      <td>32701</td>\n",
       "      <td>0 -178.79705281 0 -177.89863766 -0.90461857889...</td>\n",
       "      <td>MULTIPOLYGON(((300000 10000000,300000 9890200,...</td>\n",
       "      <td>MULTIPOLYGON(((-178.797052812354 0,-178.797320...</td>\n",
       "      <td>GEOMETRYCOLLECTION Z (POLYGON Z ((43436.761 14...</td>\n",
       "    </tr>\n",
       "    <tr>\n",
       "      <th>526</th>\n",
       "      <td>01NAA</td>\n",
       "      <td>01NAA</td>\n",
       "      <td>32601</td>\n",
       "      <td>0.90294079979 179.40722906 0.90372312093 -179....</td>\n",
       "      <td>MULTIPOLYGON(((99960 100020,99960 -9780,209760...</td>\n",
       "      <td>MULTIPOLYGON(((179.406870077048 0.903121030127...</td>\n",
       "      <td>GEOMETRYCOLLECTION Z (POLYGON Z ((177424.56 -2...</td>\n",
       "    </tr>\n",
       "    <tr>\n",
       "      <th>535</th>\n",
       "      <td>01NBA</td>\n",
       "      <td>01NBA</td>\n",
       "      <td>32601</td>\n",
       "      <td>0.90372312093 -179.69535651 0.90428260986 -178...</td>\n",
       "      <td>MULTIPOLYGON(((199980 100020,199980 -9780,3097...</td>\n",
       "      <td>MULTIPOLYGON(((-179.69553619554 0.903903730977...</td>\n",
       "      <td>GEOMETRYCOLLECTION Z (POLYGON Z ((143555.725 1...</td>\n",
       "    </tr>\n",
       "  </tbody>\n",
       "</table>\n",
       "</div>"
      ],
      "text/plain": [
       "      name     id   epsg                                            mgrsRef  \\\n",
       "462  01MAV  01MAV  32701  0 179.4076728 0 -179.69502322 -0.90372312093 -...   \n",
       "471  01MBV  01MBV  32701  0 -179.69502322 0 -178.79705281 -0.90428260986...   \n",
       "480  01MCV  01MCV  32701  0 -178.79705281 0 -177.89863766 -0.90461857889...   \n",
       "526  01NAA  01NAA  32601  0.90294079979 179.40722906 0.90372312093 -179....   \n",
       "535  01NBA  01NBA  32601  0.90372312093 -179.69535651 0.90428260986 -178...   \n",
       "\n",
       "                                                utmWkt  \\\n",
       "462  MULTIPOLYGON(((99960 10000000,99960 9890200,20...   \n",
       "471  MULTIPOLYGON(((199980 10000000,199980 9890200,...   \n",
       "480  MULTIPOLYGON(((300000 10000000,300000 9890200,...   \n",
       "526  MULTIPOLYGON(((99960 100020,99960 -9780,209760...   \n",
       "535  MULTIPOLYGON(((199980 100020,199980 -9780,3097...   \n",
       "\n",
       "                                                 llWkt  \\\n",
       "462  MULTIPOLYGON(((179.407314038588 0,179.40677899...   \n",
       "471  MULTIPOLYGON(((-179.695202757055 0,-179.695604...   \n",
       "480  MULTIPOLYGON(((-178.797052812354 0,-178.797320...   \n",
       "526  MULTIPOLYGON(((179.406870077048 0.903121030127...   \n",
       "535  MULTIPOLYGON(((-179.69553619554 0.903903730977...   \n",
       "\n",
       "                                              geometry  \n",
       "462  GEOMETRYCOLLECTION Z (POLYGON Z ((177457.46 -2...  \n",
       "471  GEOMETRYCOLLECTION Z (POLYGON Z ((143486.857 1...  \n",
       "480  GEOMETRYCOLLECTION Z (POLYGON Z ((43436.761 14...  \n",
       "526  GEOMETRYCOLLECTION Z (POLYGON Z ((177424.56 -2...  \n",
       "535  GEOMETRYCOLLECTION Z (POLYGON Z ((143555.725 1...  "
      ]
     },
     "execution_count": 9,
     "metadata": {},
     "output_type": "execute_result"
    }
   ],
   "source": [
    "intersecting_tiles_gdf.head()"
   ]
  },
  {
   "cell_type": "code",
   "execution_count": 10,
   "metadata": {},
   "outputs": [],
   "source": [
    "intersecting_tiles_gdf.to_file(\"/Users/Shared/Quantum/Projects/plot_boundary_detection/data/intersecting_tiles.geojson\", driver=\"GeoJSON\")"
   ]
  },
  {
   "cell_type": "code",
   "execution_count": 11,
   "metadata": {},
   "outputs": [],
   "source": [
    "fields_gdf.to_file(\"/Users/Shared/Quantum/Projects/plot_boundary_detection/data/ukfields_validated.geojson\", driver=\"GeoJSON\")"
   ]
  },
  {
   "cell_type": "code",
   "execution_count": 6,
   "metadata": {},
   "outputs": [],
   "source": [
    "def extract_polygons(geometry):\n",
    "    \"\"\"Extracts only the polygon parts from a GeometryCollection.\"\"\"\n",
    "    if geometry.geom_type == \"Polygon\":\n",
    "        return geometry  # Return as-is\n",
    "    elif geometry.geom_type == \"MultiPolygon\":\n",
    "        return geometry  # Return as-is\n",
    "    elif geometry.geom_type == \"GeometryCollection\":\n",
    "        polygons = [geom for geom in geometry.geoms if geom.geom_type in [\"Polygon\", \"MultiPolygon\"]]\n",
    "        return MultiPolygon(polygons) if polygons else None  # Convert list to MultiPolygon\n",
    "    return None  # Ignore other geometry types"
   ]
  },
  {
   "cell_type": "code",
   "execution_count": 16,
   "metadata": {},
   "outputs": [],
   "source": [
    "# Apply this function before exporting to GeoJSON\n",
    "intersecting_tiles_gdf[\"geometry\"] = intersecting_tiles_gdf[\"geometry\"].apply(extract_polygons)\n",
    "intersecting_tiles_gdf.to_file(\"/Users/Shared/Quantum/Projects/plot_boundary_detection/data/intersecting_tiles_shapely.geojson\", driver=\"GeoJSON\")"
   ]
  },
  {
   "cell_type": "code",
   "execution_count": 19,
   "metadata": {},
   "outputs": [],
   "source": [
    "fields_gdf[:3000].to_file(\"/Users/Shared/Quantum/Projects/plot_boundary_detection/data/ukfields_validated_3000.geojson\", driver=\"GeoJSON\")"
   ]
  },
  {
   "cell_type": "markdown",
   "metadata": {},
   "source": [
    "# Postprocess results"
   ]
  },
  {
   "cell_type": "code",
   "execution_count": 5,
   "metadata": {},
   "outputs": [
    {
     "name": "stdout",
     "output_type": "stream",
     "text": [
      "1st date: 2021-06-01 00:00:00+00:00\n"
     ]
    }
   ],
   "source": [
    "first_date = fields_gdf[\"determination_datetime\"].iloc[0]\n",
    "print(f\"1st date: {first_date}\")\n",
    "for i, date in enumerate(fields_gdf[\"determination_datetime\"]):\n",
    "    assert date == first_date, f\"Date {i+1} does not match first date: {date}\""
   ]
  },
  {
   "cell_type": "code",
   "execution_count": 9,
   "metadata": {},
   "outputs": [
    {
     "data": {
      "text/html": [
       "<div>\n",
       "<style scoped>\n",
       "    .dataframe tbody tr th:only-of-type {\n",
       "        vertical-align: middle;\n",
       "    }\n",
       "\n",
       "    .dataframe tbody tr th {\n",
       "        vertical-align: top;\n",
       "    }\n",
       "\n",
       "    .dataframe thead th {\n",
       "        text-align: right;\n",
       "    }\n",
       "</style>\n",
       "<table border=\"1\" class=\"dataframe\">\n",
       "  <thead>\n",
       "    <tr style=\"text-align: right;\">\n",
       "      <th></th>\n",
       "      <th>name</th>\n",
       "      <th>id</th>\n",
       "      <th>epsg</th>\n",
       "      <th>mgrsRef</th>\n",
       "      <th>utmWkt</th>\n",
       "      <th>llWkt</th>\n",
       "      <th>geometry</th>\n",
       "    </tr>\n",
       "  </thead>\n",
       "  <tbody>\n",
       "    <tr>\n",
       "      <th>0</th>\n",
       "      <td>29UNA</td>\n",
       "      <td>29UNA</td>\n",
       "      <td>32629</td>\n",
       "      <td>55.046806305 -9 55.036748927 -7.4352342909 54....</td>\n",
       "      <td>MULTIPOLYGON(((499980 6100020,499980 5990220,6...</td>\n",
       "      <td>MULTIPOLYGON(((-9.00031301962372 55.0469860315...</td>\n",
       "      <td>MULTIPOLYGON Z (((-46849.084 594925.837 0, 626...</td>\n",
       "    </tr>\n",
       "    <tr>\n",
       "      <th>1</th>\n",
       "      <td>29UNB</td>\n",
       "      <td>29UNB</td>\n",
       "      <td>32629</td>\n",
       "      <td>55.945375002 -9 55.934976119 -7.3992179406 55....</td>\n",
       "      <td>MULTIPOLYGON(((499980 6200040,499980 6090240,6...</td>\n",
       "      <td>MULTIPOLYGON(((-9.00032022966423 55.9457344022...</td>\n",
       "      <td>MULTIPOLYGON Z (((-36756.684 694667.322 0, 727...</td>\n",
       "    </tr>\n",
       "  </tbody>\n",
       "</table>\n",
       "</div>"
      ],
      "text/plain": [
       "    name     id   epsg                                            mgrsRef  \\\n",
       "0  29UNA  29UNA  32629  55.046806305 -9 55.036748927 -7.4352342909 54....   \n",
       "1  29UNB  29UNB  32629  55.945375002 -9 55.934976119 -7.3992179406 55....   \n",
       "\n",
       "                                              utmWkt  \\\n",
       "0  MULTIPOLYGON(((499980 6100020,499980 5990220,6...   \n",
       "1  MULTIPOLYGON(((499980 6200040,499980 6090240,6...   \n",
       "\n",
       "                                               llWkt  \\\n",
       "0  MULTIPOLYGON(((-9.00031301962372 55.0469860315...   \n",
       "1  MULTIPOLYGON(((-9.00032022966423 55.9457344022...   \n",
       "\n",
       "                                            geometry  \n",
       "0  MULTIPOLYGON Z (((-46849.084 594925.837 0, 626...  \n",
       "1  MULTIPOLYGON Z (((-36756.684 694667.322 0, 727...  "
      ]
     },
     "execution_count": 9,
     "metadata": {},
     "output_type": "execute_result"
    }
   ],
   "source": [
    "intersecting_tiles_gdf = gpd.read_file(\"/Users/Shared/Quantum/Projects/plot_boundary_detection/data/intersections_gdf_correct_tiles.geojson\")\n",
    "intersecting_tiles_gdf.head(2)"
   ]
  },
  {
   "cell_type": "code",
   "execution_count": 10,
   "metadata": {},
   "outputs": [
    {
     "name": "stdout",
     "output_type": "stream",
     "text": [
      "#Intersecting tiles: 72\n"
     ]
    }
   ],
   "source": [
    "print(f\"#Intersecting tiles: {intersecting_tiles_gdf.shape[0]}\")"
   ]
  },
  {
   "cell_type": "code",
   "execution_count": 21,
   "metadata": {},
   "outputs": [],
   "source": [
    "def filter_sentinel_tiles(gdf: gpd.GeoDataFrame, tile_area: float = (109.8 * 1000) ** 2) -> gpd.GeoDataFrame:\n",
    "    areas = []\n",
    "\n",
    "    for row in gdf.itertuples():\n",
    "        area = row.geometry.area\n",
    "        areas.append(area)\n",
    "    \n",
    "    areas = np.array(areas)\n",
    "    correct_inds = np.where((areas / tile_area >= 0.5) & (areas / tile_area <= 1.5))\n",
    "\n",
    "    return gdf.iloc[correct_inds]"
   ]
  },
  {
   "cell_type": "code",
   "execution_count": 3,
   "metadata": {},
   "outputs": [],
   "source": [
    "areas = []\n",
    "\n",
    "for row in intersecting_tiles_gdf.itertuples():\n",
    "    areas.append(row.geometry.area)\n",
    "\n",
    "areas = np.array(areas)"
   ]
  },
  {
   "cell_type": "code",
   "execution_count": 4,
   "metadata": {},
   "outputs": [],
   "source": [
    "tile_area = (109.8 * 1000) ** 2"
   ]
  },
  {
   "cell_type": "code",
   "execution_count": 10,
   "metadata": {},
   "outputs": [
    {
     "name": "stdout",
     "output_type": "stream",
     "text": [
      "Correct tiles count: 72\n",
      "[1.21065706e+10 1.21042636e+10 1.21089119e+10 1.20759455e+10\n",
      " 1.20742064e+10 1.20766211e+10 1.20777241e+10 1.20469578e+10\n",
      " 1.20541919e+10 1.20528840e+10 1.20516146e+10 1.20503867e+10\n",
      " 1.21019947e+10 1.20997637e+10 1.20975743e+10 1.20725101e+10\n",
      " 1.20708569e+10 1.20692499e+10 1.20676924e+10 1.20552592e+10\n",
      " 1.20642491e+10 1.20640775e+10 1.20639043e+10 1.20637296e+10\n",
      " 1.20635534e+10 1.20633758e+10 1.20509810e+10 1.20600865e+10\n",
      " 1.20599967e+10 1.20599063e+10 1.20598153e+10 1.20597237e+10\n",
      " 1.20596316e+10 1.20467022e+10 1.20559235e+10 1.20559155e+10\n",
      " 1.20559078e+10 1.20559004e+10 1.20558934e+10 1.20558868e+10\n",
      " 1.20517617e+10 1.20518354e+10 1.20519103e+10 1.20519865e+10\n",
      " 1.20520639e+10 1.20521427e+10 1.20476027e+10 1.20477579e+10\n",
      " 1.20479153e+10 1.20480748e+10 1.20631970e+10 1.20630168e+10\n",
      " 1.20628355e+10 1.20626533e+10 1.20595392e+10 1.20594463e+10\n",
      " 1.20593531e+10 1.20592597e+10 1.20558806e+10 1.20558750e+10\n",
      " 1.20558698e+10 1.20558652e+10 1.20558612e+10 1.20465048e+10\n",
      " 1.20525566e+10 1.20433323e+10 1.20631011e+10 1.20622845e+10\n",
      " 1.20614855e+10 1.20607058e+10 1.20668449e+10 1.20655870e+10]\n"
     ]
    }
   ],
   "source": [
    "correct_inds = np.where((areas / tile_area >= 0.5) & (areas / tile_area <= 1.5))\n",
    "print(f\"Correct tiles count: {len(correct_inds[0])}\")\n",
    "print(areas[correct_inds])"
   ]
  },
  {
   "cell_type": "code",
   "execution_count": 12,
   "metadata": {},
   "outputs": [],
   "source": [
    "intersecting_tiles_gdf.iloc[correct_inds].to_file(\n",
    "    \"/Users/Shared/Quantum/Projects/plot_boundary_detection/data/intersections_gdf_correct_tiles.geojson\",\n",
    "    driver=\"GeoJSON\"\n",
    ")"
   ]
  },
  {
   "cell_type": "code",
   "execution_count": null,
   "metadata": {},
   "outputs": [],
   "source": [
    "uk_fields_union = union_all(fields_gdf.geometry)\n",
    "print(\"Saving the union of all UK fields...\")\n",
    "gdf = gpd.GeoDataFrame(geometry=[uk_fields_union], crs=fields_gdf.crs)\n",
    "gdf.to_file(\"uk_fields_union.geojson\", driver=\"GeoJSON\")"
   ]
  },
  {
   "cell_type": "code",
   "execution_count": null,
   "metadata": {},
   "outputs": [],
   "source": [
    "uk_fields_union = union_all(fields_gdf.geometry.apply(lambda geom: geom.envelope))"
   ]
  },
  {
   "cell_type": "code",
   "execution_count": 3,
   "metadata": {},
   "outputs": [],
   "source": [
    "fields_gdf['bboxes'] = fields_gdf.geometry.apply(lambda geom: geom.envelope)"
   ]
  },
  {
   "cell_type": "code",
   "execution_count": 5,
   "metadata": {},
   "outputs": [
    {
     "data": {
      "image/svg+xml": [
       "<svg xmlns=\"http://www.w3.org/2000/svg\" xmlns:xlink=\"http://www.w3.org/1999/xlink\" width=\"300\" height=\"300\" viewBox=\"27546.8 493766.8 626.4000000000015 366.4000000000233\" preserveAspectRatio=\"xMinYMin meet\"><g transform=\"matrix(1,0,0,-1,0,987900.0)\"><path fill-rule=\"evenodd\" fill=\"#66cc99\" stroke=\"#555555\" stroke-width=\"4.17600000000001\" opacity=\"0.6\" d=\"M 27570.0,493790.0 L 28150.0,493790.0 L 28150.0,494110.0 L 27570.0,494110.0 L 27570.0,493790.0 z\" /></g></svg>"
      ],
      "text/plain": [
       "<POLYGON ((27570 493790, 28150 493790, 28150 494110, 27570 494110, 27570 493...>"
      ]
     },
     "execution_count": 5,
     "metadata": {},
     "output_type": "execute_result"
    }
   ],
   "source": [
    "fields_gdf[\"bboxes\"].iloc[0]"
   ]
  },
  {
   "cell_type": "code",
   "execution_count": 7,
   "metadata": {},
   "outputs": [
    {
     "name": "stderr",
     "output_type": "stream",
     "text": [
      "Merging geometries: 100%|█████████████████████████████████████████████████████████████████████████████████████████████████████████| 167/167 [02:06<00:00,  1.32batch/s]\n"
     ]
    }
   ],
   "source": [
    "# Convert geometries to a list\n",
    "geometries = list(fields_gdf.bboxes)\n",
    "\n",
    "# Define batch size (adjust based on available memory)\n",
    "batch_size = 10_000  \n",
    "\n",
    "# Process geometries in chunks\n",
    "chunks = [geometries[i:i + batch_size] for i in range(0, len(geometries), batch_size)]\n",
    "\n",
    "# Initialize empty MultiPolygon\n",
    "merged = None\n",
    "\n",
    "for chunk in tqdm(chunks, desc=\"Merging geometries\", unit=\"batch\"):\n",
    "    if merged is None:\n",
    "        merged = union_all(chunk)  # First batch\n",
    "    else:\n",
    "        merged = union_all([merged] + chunk).convex_hull  # Merge with existing result"
   ]
  },
  {
   "cell_type": "code",
   "execution_count": 8,
   "metadata": {},
   "outputs": [],
   "source": [
    "gdf = gpd.GeoDataFrame(geometry=[merged], crs=fields_gdf.crs)\n",
    "gdf.to_file(\"uk_fields_union.geojson\", driver=\"GeoJSON\")"
   ]
  },
  {
   "cell_type": "code",
   "execution_count": 16,
   "metadata": {},
   "outputs": [
    {
     "data": {
      "text/plain": [
       "<DatetimeArray>\n",
       "['2021-06-01 00:00:00+00:00']\n",
       "Length: 1, dtype: datetime64[ms, UTC]"
      ]
     },
     "execution_count": 16,
     "metadata": {},
     "output_type": "execute_result"
    }
   ],
   "source": [
    "fields_gdf[\"determination_datetime\"].unique()"
   ]
  },
  {
   "cell_type": "markdown",
   "metadata": {},
   "source": [
    "# France"
   ]
  },
  {
   "cell_type": "code",
   "execution_count": 7,
   "metadata": {},
   "outputs": [
    {
     "data": {
      "text/html": [
       "<div>\n",
       "<style scoped>\n",
       "    .dataframe tbody tr th:only-of-type {\n",
       "        vertical-align: middle;\n",
       "    }\n",
       "\n",
       "    .dataframe tbody tr th {\n",
       "        vertical-align: top;\n",
       "    }\n",
       "\n",
       "    .dataframe thead th {\n",
       "        text-align: right;\n",
       "    }\n",
       "</style>\n",
       "<table border=\"1\" class=\"dataframe\">\n",
       "  <thead>\n",
       "    <tr style=\"text-align: right;\">\n",
       "      <th></th>\n",
       "      <th>geometry</th>\n",
       "      <th>id</th>\n",
       "      <th>area</th>\n",
       "      <th>code_culture</th>\n",
       "      <th>code_group</th>\n",
       "      <th>determination_datetime</th>\n",
       "      <th>EC_trans_n</th>\n",
       "      <th>EC_hcat_n</th>\n",
       "      <th>EC_hcat_c</th>\n",
       "    </tr>\n",
       "  </thead>\n",
       "  <tbody>\n",
       "    <tr>\n",
       "      <th>0</th>\n",
       "      <td>POLYGON ((849735.439 6550875.519, 849737.06 65...</td>\n",
       "      <td>38812</td>\n",
       "      <td>2.68</td>\n",
       "      <td>ORH</td>\n",
       "      <td>3</td>\n",
       "      <td>2018-01-15 00:00:00+00:00</td>\n",
       "      <td>Winter barley</td>\n",
       "      <td>winter_barley</td>\n",
       "      <td>3301010401</td>\n",
       "    </tr>\n",
       "    <tr>\n",
       "      <th>1</th>\n",
       "      <td>POLYGON ((849968.343 6550277.717, 850033.702 6...</td>\n",
       "      <td>38905</td>\n",
       "      <td>20.49</td>\n",
       "      <td>BTH</td>\n",
       "      <td>1</td>\n",
       "      <td>2018-01-15 00:00:00+00:00</td>\n",
       "      <td>Soft winter wheat</td>\n",
       "      <td>winter_common_soft_wheat</td>\n",
       "      <td>3301010101</td>\n",
       "    </tr>\n",
       "    <tr>\n",
       "      <th>2</th>\n",
       "      <td>POLYGON ((836239.463 6541366.745, 836239.01 65...</td>\n",
       "      <td>38801</td>\n",
       "      <td>1.49</td>\n",
       "      <td>ORH</td>\n",
       "      <td>3</td>\n",
       "      <td>2018-01-15 00:00:00+00:00</td>\n",
       "      <td>Winter barley</td>\n",
       "      <td>winter_barley</td>\n",
       "      <td>3301010401</td>\n",
       "    </tr>\n",
       "    <tr>\n",
       "      <th>3</th>\n",
       "      <td>POLYGON ((836672.766 6542164.668, 836609.069 6...</td>\n",
       "      <td>38816</td>\n",
       "      <td>0.27</td>\n",
       "      <td>SOG</td>\n",
       "      <td>4</td>\n",
       "      <td>2018-01-15 00:00:00+00:00</td>\n",
       "      <td>Sorghum</td>\n",
       "      <td>millet_sorghum</td>\n",
       "      <td>3301010900</td>\n",
       "    </tr>\n",
       "    <tr>\n",
       "      <th>4</th>\n",
       "      <td>POLYGON ((837134.128 6542614.464, 837103.154 6...</td>\n",
       "      <td>38907</td>\n",
       "      <td>0.19</td>\n",
       "      <td>J6S</td>\n",
       "      <td>11</td>\n",
       "      <td>2018-01-15 00:00:00+00:00</td>\n",
       "      <td>Fallow land 6 years or more declared as Ecolog...</td>\n",
       "      <td>fallow_land_not_crop</td>\n",
       "      <td>3301110000</td>\n",
       "    </tr>\n",
       "  </tbody>\n",
       "</table>\n",
       "</div>"
      ],
      "text/plain": [
       "                                            geometry     id   area  \\\n",
       "0  POLYGON ((849735.439 6550875.519, 849737.06 65...  38812   2.68   \n",
       "1  POLYGON ((849968.343 6550277.717, 850033.702 6...  38905  20.49   \n",
       "2  POLYGON ((836239.463 6541366.745, 836239.01 65...  38801   1.49   \n",
       "3  POLYGON ((836672.766 6542164.668, 836609.069 6...  38816   0.27   \n",
       "4  POLYGON ((837134.128 6542614.464, 837103.154 6...  38907   0.19   \n",
       "\n",
       "  code_culture  code_group    determination_datetime  \\\n",
       "0          ORH           3 2018-01-15 00:00:00+00:00   \n",
       "1          BTH           1 2018-01-15 00:00:00+00:00   \n",
       "2          ORH           3 2018-01-15 00:00:00+00:00   \n",
       "3          SOG           4 2018-01-15 00:00:00+00:00   \n",
       "4          J6S          11 2018-01-15 00:00:00+00:00   \n",
       "\n",
       "                                          EC_trans_n  \\\n",
       "0                                      Winter barley   \n",
       "1                                  Soft winter wheat   \n",
       "2                                      Winter barley   \n",
       "3                                            Sorghum   \n",
       "4  Fallow land 6 years or more declared as Ecolog...   \n",
       "\n",
       "                  EC_hcat_n   EC_hcat_c  \n",
       "0             winter_barley  3301010401  \n",
       "1  winter_common_soft_wheat  3301010101  \n",
       "2             winter_barley  3301010401  \n",
       "3            millet_sorghum  3301010900  \n",
       "4      fallow_land_not_crop  3301110000  "
      ]
     },
     "execution_count": 7,
     "metadata": {},
     "output_type": "execute_result"
    }
   ],
   "source": [
    "france_fields_gdf = gpd.read_parquet(\"/Users/Shared/Quantum/Projects/plot_boundary_detection/data/ssl_geometries/france_eurocrops_2018_fiboa.parquet\")\n",
    "france_fields_gdf.head()"
   ]
  },
  {
   "cell_type": "code",
   "execution_count": 4,
   "metadata": {},
   "outputs": [
    {
     "data": {
      "text/plain": [
       "1"
      ]
     },
     "execution_count": 4,
     "metadata": {},
     "output_type": "execute_result"
    }
   ],
   "source": [
    "france_fields_gdf[\"determination_datetime\"].nunique()"
   ]
  },
  {
   "cell_type": "code",
   "execution_count": 18,
   "metadata": {},
   "outputs": [
    {
     "name": "stdout",
     "output_type": "stream",
     "text": [
      "France fields count: 9517878\n",
      "France fields CRS: {\"$schema\": \"https://proj.org/schemas/v0.7/projjson.schema.json\", \"type\": \"ProjectedCRS\", \"name\": \"RGF93 Lambert 93\", \"base_crs\": {\"name\": \"RGF93 geographiques (dms)\", \"datum\": {\"type\": \"GeodeticReferenceFrame\", \"name\": \"Reseau Geodesique Francais 1993 v1\", \"ellipsoid\": {\"name\": \"GRS 1980\", \"semi_major_axis\": 6378137, \"inverse_flattening\": 298.257222101}}, \"coordinate_system\": {\"subtype\": \"ellipsoidal\", \"axis\": [{\"name\": \"Geodetic longitude\", \"abbreviation\": \"Lon\", \"direction\": \"east\", \"unit\": \"degree\"}, {\"name\": \"Geodetic latitude\", \"abbreviation\": \"Lat\", \"direction\": \"north\", \"unit\": \"degree\"}]}, \"id\": {\"authority\": \"IGNF\", \"code\": \"RGF93G\"}}, \"conversion\": {\"name\": \"unnamed\", \"method\": {\"name\": \"Lambert Conic Conformal (2SP)\", \"id\": {\"authority\": \"EPSG\", \"code\": 9802}}, \"parameters\": [{\"name\": \"Latitude of false origin\", \"value\": 46.5, \"unit\": \"degree\", \"id\": {\"authority\": \"EPSG\", \"code\": 8821}}, {\"name\": \"Longitude of false origin\", \"value\": 3, \"unit\": \"degree\", \"id\": {\"authority\": \"EPSG\", \"code\": 8822}}, {\"name\": \"Latitude of 1st standard parallel\", \"value\": 44, \"unit\": \"degree\", \"id\": {\"authority\": \"EPSG\", \"code\": 8823}}, {\"name\": \"Latitude of 2nd standard parallel\", \"value\": 49, \"unit\": \"degree\", \"id\": {\"authority\": \"EPSG\", \"code\": 8824}}, {\"name\": \"Easting at false origin\", \"value\": 700000, \"unit\": \"metre\", \"id\": {\"authority\": \"EPSG\", \"code\": 8826}}, {\"name\": \"Northing at false origin\", \"value\": 6600000, \"unit\": \"metre\", \"id\": {\"authority\": \"EPSG\", \"code\": 8827}}]}, \"coordinate_system\": {\"subtype\": \"Cartesian\", \"axis\": [{\"name\": \"Easting\", \"abbreviation\": \"\", \"direction\": \"east\", \"unit\": \"metre\"}, {\"name\": \"Northing\", \"abbreviation\": \"\", \"direction\": \"north\", \"unit\": \"metre\"}]}, \"id\": {\"authority\": \"IGNF\", \"code\": \"LAMB93\"}}\n"
     ]
    }
   ],
   "source": [
    "print(f\"France fields count: {france_fields_gdf.shape[0]}\")\n",
    "print(f\"France fields CRS: {france_fields_gdf.crs}\")"
   ]
  },
  {
   "cell_type": "code",
   "execution_count": 19,
   "metadata": {},
   "outputs": [],
   "source": [
    "# Step 1: Load the Sentinel-2 MGRS grid (replace with your downloaded file)\n",
    "mgrs_grid_path = \"/Users/Shared/Quantum/Projects/plot_boundary_detection/data/grid.geojson\"  # Downloaded MGRS grid file\n",
    "mgrs_gdf = gpd.read_file(mgrs_grid_path)\n",
    "\n",
    "# Ensure the grid is in a projected CRS (e.g., EPSG:27700 for your fields)\n",
    "mgrs_gdf = mgrs_gdf.to_crs(france_fields_gdf.crs)"
   ]
  },
  {
   "cell_type": "code",
   "execution_count": null,
   "metadata": {},
   "outputs": [
    {
     "name": "stderr",
     "output_type": "stream",
     "text": [
      "Processing geometries: 100%|████████████████████████████████████████████████████████████████████████████████████████████████████| 56686/56686 [02:15<00:00, 419.68it/s]\n"
     ]
    }
   ],
   "source": [
    "france_intersecting_tiles = efficient_intersection_with_validation(mgrs_gdf, france_fields_gdf)"
   ]
  },
  {
   "cell_type": "code",
   "execution_count": 24,
   "metadata": {},
   "outputs": [],
   "source": [
    "france_intersecting_tiles = filter_sentinel_tiles(france_intersecting_tiles)"
   ]
  },
  {
   "cell_type": "code",
   "execution_count": 25,
   "metadata": {},
   "outputs": [
    {
     "name": "stdout",
     "output_type": "stream",
     "text": [
      "#Tiles for France: 98\n"
     ]
    }
   ],
   "source": [
    "print(f\"#Tiles for France: {france_intersecting_tiles.shape[0]}\")"
   ]
  },
  {
   "cell_type": "code",
   "execution_count": 4,
   "metadata": {},
   "outputs": [],
   "source": [
    "france_intersecting_tiles = gpd.read_file(\n",
    "    \"/Users/Shared/Quantum/Projects/plot_boundary_detection/data/ssl_geometries/france_intersecting_tiles.geojson\"\n",
    ")"
   ]
  },
  {
   "cell_type": "code",
   "execution_count": 7,
   "metadata": {},
   "outputs": [],
   "source": [
    "france_intersecting_tiles[\"geometry\"] = france_intersecting_tiles[\"geometry\"].apply(extract_polygons)"
   ]
  },
  {
   "cell_type": "code",
   "execution_count": 8,
   "metadata": {},
   "outputs": [],
   "source": [
    "# Apply this function before exporting to GeoJSON\n",
    "france_intersecting_tiles.to_file(\n",
    "    \"/Users/Shared/Quantum/Projects/plot_boundary_detection/data/ssl_geometries/france_intersecting_tiles.geojson\",\n",
    "    driver=\"GeoJSON\"\n",
    ")"
   ]
  },
  {
   "cell_type": "markdown",
   "metadata": {},
   "source": [
    "# Extract a subset of tiles"
   ]
  },
  {
   "cell_type": "code",
   "execution_count": 2,
   "metadata": {},
   "outputs": [
    {
     "name": "stdout",
     "output_type": "stream",
     "text": [
      "#UK fields tiles: 72\n"
     ]
    }
   ],
   "source": [
    "uk_fields_tiles = gpd.read_file(\"/Users/Shared/Quantum/Projects/plot_boundary_detection/data/ssl_geometries/intersections_gdf_correct_tiles.geojson\")\n",
    "uk_fields_convex_hull = gpd.read_file(\"/Users/Shared/Quantum/Projects/plot_boundary_detection/data/ssl_geometries/uk_fields_union.geojson\")\n",
    "print(f\"#UK fields tiles: {uk_fields_tiles.shape[0]}\")"
   ]
  },
  {
   "cell_type": "code",
   "execution_count": 3,
   "metadata": {},
   "outputs": [
    {
     "name": "stdout",
     "output_type": "stream",
     "text": [
      "#France fields tiles: 98\n"
     ]
    }
   ],
   "source": [
    "france_fields_tiles = gpd.read_file(\"/Users/Shared/Quantum/Projects/plot_boundary_detection/data/ssl_geometries/france_intersecting_tiles.geojson\")\n",
    "france_fields_convex_hull = union_all([geom for geom in france_fields_tiles[\"geometry\"]]).convex_hull\n",
    "france_fields_convex_hull = gpd.GeoDataFrame(geometry=[france_fields_convex_hull], crs=france_fields_tiles.crs)\n",
    "# france_fields_convex_hull.to_file(\"/Users/Shared/Quantum/Projects/plot_boundary_detection/data/ssl_geometries/france_fields_union.geojson\", driver=\"GeoJSON\")\n",
    "print(f\"#France fields tiles: {france_fields_tiles.shape[0]}\")"
   ]
  },
  {
   "cell_type": "code",
   "execution_count": 4,
   "metadata": {},
   "outputs": [
    {
     "data": {
      "text/plain": [
       "<Projected CRS: EPSG:2154>\n",
       "Name: RGF93 v1 / Lambert-93\n",
       "Axis Info [cartesian]:\n",
       "- X[east]: Easting (metre)\n",
       "- Y[north]: Northing (metre)\n",
       "Area of Use:\n",
       "- name: France - onshore and offshore, mainland and Corsica (France métropolitaine including Corsica).\n",
       "- bounds: (-9.86, 41.15, 10.38, 51.56)\n",
       "Coordinate Operation:\n",
       "- name: Lambert-93\n",
       "- method: Lambert Conic Conformal (2SP)\n",
       "Datum: Reseau Geodesique Francais 1993 v1\n",
       "- Ellipsoid: GRS 1980\n",
       "- Prime Meridian: Greenwich"
      ]
     },
     "execution_count": 4,
     "metadata": {},
     "output_type": "execute_result"
    }
   ],
   "source": [
    "france_fields_tiles.crs"
   ]
  },
  {
   "cell_type": "code",
   "execution_count": 4,
   "metadata": {},
   "outputs": [],
   "source": [
    "def generate_disjoint_squares(convex_shape, epsg, k, n, save_path=None):\n",
    "    \"\"\"\n",
    "    Generates k disjoint nxn km squares inside a convex shapely polygon.\n",
    "    \n",
    "    :param convex_shape: shapely.geometry.Polygon (convex) defining the boundary.\n",
    "    :param epsg: int, EPSG code for the coordinate reference system.\n",
    "    :param k: int, number of squares to generate.\n",
    "    :param n: int, square size in km (nxn km squares).\n",
    "    :param save_path: str or None, path to save output GeoJSON if provided.\n",
    "    :return: geopandas.GeoDataFrame containing the squares.\n",
    "    \"\"\"\n",
    "    # Convert km to CRS units (assumed to be meters for projected CRS)\n",
    "    square_size_m = n * 1000  # Convert km to meters\n",
    "    \n",
    "    # Get bounds of the convex shape\n",
    "    minx, miny, maxx, maxy = convex_shape.bounds\n",
    "    \n",
    "    squares = []\n",
    "    attempts = 0\n",
    "    max_attempts = k * 10  # Avoid infinite loops in case of failure\n",
    "    \n",
    "    while len(squares) < k and attempts < max_attempts:\n",
    "        attempts += 1\n",
    "        \n",
    "        # Randomly pick a bottom-left coordinate inside the bounding box\n",
    "        x = random.uniform(minx, maxx - square_size_m)\n",
    "        y = random.uniform(miny, maxy - square_size_m)\n",
    "        \n",
    "        candidate_square = box(x, y, x + square_size_m, y + square_size_m)\n",
    "        \n",
    "        # Check if it fits inside the convex shape and does not overlap existing squares\n",
    "        if convex_shape.contains(candidate_square) and all(not s.intersects(candidate_square) for s in squares):\n",
    "            squares.append(candidate_square)\n",
    "    \n",
    "    # Create a GeoDataFrame\n",
    "    gdf = gpd.GeoDataFrame(geometry=squares, crs=f\"EPSG:{epsg}\")\n",
    "    \n",
    "    # Save to file if required\n",
    "    if save_path:\n",
    "        gdf.to_file(save_path, driver='GeoJSON')\n",
    "    \n",
    "    return gdf\n"
   ]
  },
  {
   "cell_type": "code",
   "execution_count": 11,
   "metadata": {},
   "outputs": [],
   "source": [
    "field_areas = generate_disjoint_squares(uk_fields_convex_hull.geometry[0], 27700, 2500, 5, \"field_areas.geojson\")"
   ]
  },
  {
   "cell_type": "code",
   "execution_count": 5,
   "metadata": {},
   "outputs": [],
   "source": [
    "field_areas = generate_disjoint_squares(france_fields_convex_hull.geometry[0], 2154, 5000, 5, \"france_field_areas.geojson\")"
   ]
  },
  {
   "cell_type": "code",
   "execution_count": 12,
   "metadata": {},
   "outputs": [
    {
     "name": "stderr",
     "output_type": "stream",
     "text": [
      "Processing geometries: 100%|███████████████████████████████████████████████████████████████████████████████████████████████| 1665637/1665637 [03:45<00:00, 7381.73it/s]\n"
     ]
    },
    {
     "name": "stdout",
     "output_type": "stream",
     "text": [
      "#Intersecting fields: 208835\n"
     ]
    }
   ],
   "source": [
    "intersecting_fields = efficient_intersection_with_validation(fields_gdf, field_areas)\n",
    "print(f\"#Intersecting fields: {intersecting_fields.shape[0]}\")"
   ]
  },
  {
   "cell_type": "code",
   "execution_count": 8,
   "metadata": {},
   "outputs": [
    {
     "name": "stderr",
     "output_type": "stream",
     "text": [
      "Processing geometries: 100%|███████████████████████████████████████████████████████████████████████████████████████████████| 9517878/9517878 [21:56<00:00, 7228.56it/s]\n"
     ]
    },
    {
     "name": "stdout",
     "output_type": "stream",
     "text": [
      "#Intersecting fields: 1091614\n"
     ]
    }
   ],
   "source": [
    "intersecting_fields = efficient_intersection_with_validation(france_fields_gdf.to_crs(\"epsg:2154\"), field_areas)\n",
    "intersecting_fields.to_file(\"france_fields_chosen_subset_5km.geojson\", driver=\"GeoJSON\")\n",
    "print(f\"#Intersecting fields: {intersecting_fields.shape[0]}\")"
   ]
  },
  {
   "cell_type": "code",
   "execution_count": 22,
   "metadata": {},
   "outputs": [],
   "source": [
    "intersecting_fields.to_file(\"uk_fields_chosen_subset.geojson\", driver=\"GeoJSON\")"
   ]
  },
  {
   "cell_type": "code",
   "execution_count": 23,
   "metadata": {},
   "outputs": [],
   "source": [
    "intersecting_fields.to_file(\"france_fields_chosen_subset.geojson\", driver=\"GeoJSON\")"
   ]
  },
  {
   "cell_type": "code",
   "execution_count": 6,
   "metadata": {},
   "outputs": [
    {
     "data": {
      "text/html": [
       "<div>\n",
       "<style scoped>\n",
       "    .dataframe tbody tr th:only-of-type {\n",
       "        vertical-align: middle;\n",
       "    }\n",
       "\n",
       "    .dataframe tbody tr th {\n",
       "        vertical-align: top;\n",
       "    }\n",
       "\n",
       "    .dataframe thead th {\n",
       "        text-align: right;\n",
       "    }\n",
       "</style>\n",
       "<table border=\"1\" class=\"dataframe\">\n",
       "  <thead>\n",
       "    <tr style=\"text-align: right;\">\n",
       "      <th></th>\n",
       "      <th>id</th>\n",
       "      <th>area</th>\n",
       "      <th>code_culture</th>\n",
       "      <th>code_group</th>\n",
       "      <th>determination_datetime</th>\n",
       "      <th>EC_trans_n</th>\n",
       "      <th>EC_hcat_n</th>\n",
       "      <th>EC_hcat_c</th>\n",
       "      <th>geometry</th>\n",
       "    </tr>\n",
       "  </thead>\n",
       "  <tbody>\n",
       "    <tr>\n",
       "      <th>0</th>\n",
       "      <td>9400554</td>\n",
       "      <td>26.620001</td>\n",
       "      <td>PPH</td>\n",
       "      <td>18</td>\n",
       "      <td>2018-01-15 00:00:00+00:00</td>\n",
       "      <td>Permanent pasture - predominantly grass (woody...</td>\n",
       "      <td>pasture_meadow_grassland_grass</td>\n",
       "      <td>3302000000</td>\n",
       "      <td>POLYGON ((901476.774 6578036.929, 901533.818 6...</td>\n",
       "    </tr>\n",
       "    <tr>\n",
       "      <th>1</th>\n",
       "      <td>9400555</td>\n",
       "      <td>0.680000</td>\n",
       "      <td>PPH</td>\n",
       "      <td>18</td>\n",
       "      <td>2018-01-15 00:00:00+00:00</td>\n",
       "      <td>Permanent pasture - predominantly grass (woody...</td>\n",
       "      <td>pasture_meadow_grassland_grass</td>\n",
       "      <td>3302000000</td>\n",
       "      <td>POLYGON ((900731.241 6577936.45, 900730.491 65...</td>\n",
       "    </tr>\n",
       "  </tbody>\n",
       "</table>\n",
       "</div>"
      ],
      "text/plain": [
       "        id       area code_culture  code_group    determination_datetime  \\\n",
       "0  9400554  26.620001          PPH          18 2018-01-15 00:00:00+00:00   \n",
       "1  9400555   0.680000          PPH          18 2018-01-15 00:00:00+00:00   \n",
       "\n",
       "                                          EC_trans_n  \\\n",
       "0  Permanent pasture - predominantly grass (woody...   \n",
       "1  Permanent pasture - predominantly grass (woody...   \n",
       "\n",
       "                        EC_hcat_n   EC_hcat_c  \\\n",
       "0  pasture_meadow_grassland_grass  3302000000   \n",
       "1  pasture_meadow_grassland_grass  3302000000   \n",
       "\n",
       "                                            geometry  \n",
       "0  POLYGON ((901476.774 6578036.929, 901533.818 6...  \n",
       "1  POLYGON ((900731.241 6577936.45, 900730.491 65...  "
      ]
     },
     "execution_count": 6,
     "metadata": {},
     "output_type": "execute_result"
    }
   ],
   "source": [
    "intersecting_fields = gpd.read_file(\"france_fields_chosen_subset.geojson\")\n",
    "intersecting_fields.head(2)"
   ]
  },
  {
   "cell_type": "code",
   "execution_count": null,
   "metadata": {},
   "outputs": [],
   "source": [
    "field_areas = gpd.read_file(\"france_field_areas.geojson\")"
   ]
  },
  {
   "cell_type": "code",
   "execution_count": 9,
   "metadata": {},
   "outputs": [
    {
     "name": "stderr",
     "output_type": "stream",
     "text": [
      "Processing geometries: 100%|█████████████████████████████████████████████████████████████████████████████████████████████████████| 5000/5000 [00:01<00:00, 3400.55it/s]\n"
     ]
    },
    {
     "name": "stdout",
     "output_type": "stream",
     "text": [
      "#Resulting areas / tiles: 2373\n"
     ]
    }
   ],
   "source": [
    "field_areas_refined = efficient_intersection_with_validation(field_areas, intersecting_fields)\n",
    "field_areas_refined.to_file(\"france_fields_tiles_chosen_subset_5km.geojson\")\n",
    "print(f\"#Resulting areas / tiles: {field_areas_refined.shape[0]}\")"
   ]
  },
  {
   "cell_type": "code",
   "execution_count": 8,
   "metadata": {},
   "outputs": [
    {
     "name": "stdout",
     "output_type": "stream",
     "text": [
      "France 10km x 10km tiles: 240\n"
     ]
    }
   ],
   "source": [
    "print(f\"France 10km x 10km tiles: {field_areas_refined.shape[0]}\")"
   ]
  },
  {
   "cell_type": "code",
   "execution_count": 25,
   "metadata": {},
   "outputs": [
    {
     "data": {
      "text/plain": [
       "105"
      ]
     },
     "execution_count": 25,
     "metadata": {},
     "output_type": "execute_result"
    }
   ],
   "source": [
    "field_areas_refined.shape[0]"
   ]
  },
  {
   "cell_type": "code",
   "execution_count": null,
   "metadata": {},
   "outputs": [
    {
     "name": "stderr",
     "output_type": "stream",
     "text": [
      "Processing geometries: 100%|███████████████████████████████████████████████████████████████████████████████████████████████| 1665637/1665637 [03:44<00:00, 7431.36it/s]\n"
     ]
    },
    {
     "name": "stdout",
     "output_type": "stream",
     "text": [
      "#Intersecting fields: 208835\n"
     ]
    }
   ],
   "source": [
    "uk_kept_tiles = gpd.read_file(\"/Users/Shared/Quantum/Projects/plot_boundary_detection/code/load_tiles/uk_fields_tiles_chosen_subset_5km.geojson\")\n",
    "intersecting_fields = efficient_intersection_with_validation(fields_gdf, uk_kept_tiles)\n",
    "intersecting_fields.to_file(\"uk_fields_chosen_subset.geojson\", driver=\"GeoJSON\")\n",
    "print(f\"#Intersecting fields: {intersecting_fields.shape[0]}\")"
   ]
  },
  {
   "cell_type": "code",
   "execution_count": 5,
   "metadata": {},
   "outputs": [
    {
     "name": "stderr",
     "output_type": "stream",
     "text": [
      "Processing geometries: 100%|█████████████████████████████████████████████████████████████████████████████████████████████████████| 1191/1191 [00:00<00:00, 4231.41it/s]"
     ]
    },
    {
     "name": "stdout",
     "output_type": "stream",
     "text": [
      "#Original tiles: 1191\n",
      "#Asserted tiles: 1191\n"
     ]
    },
    {
     "name": "stderr",
     "output_type": "stream",
     "text": [
      "\n"
     ]
    }
   ],
   "source": [
    "uk_kept_tiles = gpd.read_file(\"/Users/Shared/Quantum/Projects/plot_boundary_detection/code/load_tiles/uk_fields_tiles_chosen_subset_5km.geojson\")\n",
    "intersecting_fields = gpd.read_file(\"/Users/Shared/Quantum/Projects/plot_boundary_detection/code/load_tiles/uk_fields_chosen_subset.geojson\")\n",
    "asserted_tiles = efficient_intersection_with_validation(uk_kept_tiles, intersecting_fields)\n",
    "\n",
    "print(f\"#Original tiles: {uk_kept_tiles.shape[0]}\")\n",
    "print(f\"#Asserted tiles: {asserted_tiles.shape[0]}\")"
   ]
  },
  {
   "cell_type": "code",
   "execution_count": null,
   "metadata": {},
   "outputs": [],
   "source": []
  }
 ],
 "metadata": {
  "kernelspec": {
   "display_name": "Python 3 (ipykernel)",
   "language": "python",
   "name": "python3"
  },
  "language_info": {
   "codemirror_mode": {
    "name": "ipython",
    "version": 3
   },
   "file_extension": ".py",
   "mimetype": "text/x-python",
   "name": "python",
   "nbconvert_exporter": "python",
   "pygments_lexer": "ipython3",
   "version": "3.9.6"
  }
 },
 "nbformat": 4,
 "nbformat_minor": 2
}
