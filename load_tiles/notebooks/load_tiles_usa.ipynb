{
 "cells": [
  {
   "cell_type": "code",
   "execution_count": 1,
   "metadata": {},
   "outputs": [],
   "source": [
    "import geopandas as gpd"
   ]
  },
  {
   "cell_type": "code",
   "execution_count": 2,
   "metadata": {},
   "outputs": [
    {
     "name": "stderr",
     "output_type": "stream",
     "text": [
      "/Users/Shared/Quantum/Projects/plot_boundary_detection/code/load_tiles/.venv/lib/python3.9/site-packages/pyogrio/raw.py:198: RuntimeWarning: driver OpenFileGDB does not support open option DRIVER\n",
      "  return ogr_read(\n",
      "/Users/Shared/Quantum/Projects/plot_boundary_detection/code/load_tiles/.venv/lib/python3.9/site-packages/pyogrio/raw.py:198: RuntimeWarning: organizePolygons() received a polygon with more than 100 parts. The processing may be really slow.  You can skip the processing by setting METHOD=SKIP, or only make it analyze counter-clock wise parts by setting METHOD=ONLY_CCW if you can assume that the outline of holes is counter-clock wise defined\n",
      "  return ogr_read(\n"
     ]
    }
   ],
   "source": [
    "usa_fields = gpd.read_file('/Users/yur/Downloads/NationalCSB_2016-2023_rev23/CSB1623.gdb', driver='FileGDB')"
   ]
  },
  {
   "cell_type": "code",
   "execution_count": 4,
   "metadata": {},
   "outputs": [
    {
     "data": {
      "text/plain": [
       "16194800"
      ]
     },
     "execution_count": 4,
     "metadata": {},
     "output_type": "execute_result"
    }
   ],
   "source": [
    "usa_fields.shape[0]"
   ]
  },
  {
   "cell_type": "code",
   "execution_count": 5,
   "metadata": {},
   "outputs": [
    {
     "data": {
      "text/html": [
       "<div>\n",
       "<style scoped>\n",
       "    .dataframe tbody tr th:only-of-type {\n",
       "        vertical-align: middle;\n",
       "    }\n",
       "\n",
       "    .dataframe tbody tr th {\n",
       "        vertical-align: top;\n",
       "    }\n",
       "\n",
       "    .dataframe thead th {\n",
       "        text-align: right;\n",
       "    }\n",
       "</style>\n",
       "<table border=\"1\" class=\"dataframe\">\n",
       "  <thead>\n",
       "    <tr style=\"text-align: right;\">\n",
       "      <th></th>\n",
       "      <th>CSBID</th>\n",
       "      <th>CSBYEARS</th>\n",
       "      <th>CSBACRES</th>\n",
       "      <th>CDL2016</th>\n",
       "      <th>CDL2017</th>\n",
       "      <th>CDL2018</th>\n",
       "      <th>CDL2019</th>\n",
       "      <th>CDL2020</th>\n",
       "      <th>CDL2021</th>\n",
       "      <th>CDL2022</th>\n",
       "      <th>...</th>\n",
       "      <th>STATEFIPS</th>\n",
       "      <th>STATEASD</th>\n",
       "      <th>ASD</th>\n",
       "      <th>CNTY</th>\n",
       "      <th>CNTYFIPS</th>\n",
       "      <th>INSIDE_X</th>\n",
       "      <th>INSIDE_Y</th>\n",
       "      <th>Shape_Length</th>\n",
       "      <th>Shape_Area</th>\n",
       "      <th>geometry</th>\n",
       "    </tr>\n",
       "  </thead>\n",
       "  <tbody>\n",
       "    <tr>\n",
       "      <th>0</th>\n",
       "      <td>351623000000001</td>\n",
       "      <td>1623</td>\n",
       "      <td>2.777984</td>\n",
       "      <td>24</td>\n",
       "      <td>24</td>\n",
       "      <td>24</td>\n",
       "      <td>152</td>\n",
       "      <td>152</td>\n",
       "      <td>152</td>\n",
       "      <td>152</td>\n",
       "      <td>...</td>\n",
       "      <td>35</td>\n",
       "      <td>3530</td>\n",
       "      <td>30</td>\n",
       "      <td>Union</td>\n",
       "      <td>059</td>\n",
       "      <td>-650336.7078</td>\n",
       "      <td>1.447441e+06</td>\n",
       "      <td>628.315309</td>\n",
       "      <td>11242.149046</td>\n",
       "      <td>MULTIPOLYGON (((-650269.88 1447270.097, -65029...</td>\n",
       "    </tr>\n",
       "    <tr>\n",
       "      <th>1</th>\n",
       "      <td>351623000000002</td>\n",
       "      <td>1623</td>\n",
       "      <td>9.293348</td>\n",
       "      <td>24</td>\n",
       "      <td>24</td>\n",
       "      <td>24</td>\n",
       "      <td>24</td>\n",
       "      <td>24</td>\n",
       "      <td>24</td>\n",
       "      <td>24</td>\n",
       "      <td>...</td>\n",
       "      <td>35</td>\n",
       "      <td>3530</td>\n",
       "      <td>30</td>\n",
       "      <td>Union</td>\n",
       "      <td>059</td>\n",
       "      <td>-648203.5992</td>\n",
       "      <td>1.447142e+06</td>\n",
       "      <td>1042.818836</td>\n",
       "      <td>37608.996229</td>\n",
       "      <td>MULTIPOLYGON (((-648233.79 1447215.119, -64810...</td>\n",
       "    </tr>\n",
       "    <tr>\n",
       "      <th>2</th>\n",
       "      <td>351623000000003</td>\n",
       "      <td>1623</td>\n",
       "      <td>5.775874</td>\n",
       "      <td>24</td>\n",
       "      <td>24</td>\n",
       "      <td>24</td>\n",
       "      <td>24</td>\n",
       "      <td>24</td>\n",
       "      <td>24</td>\n",
       "      <td>24</td>\n",
       "      <td>...</td>\n",
       "      <td>35</td>\n",
       "      <td>3530</td>\n",
       "      <td>30</td>\n",
       "      <td>Union</td>\n",
       "      <td>059</td>\n",
       "      <td>-647571.4914</td>\n",
       "      <td>1.447064e+06</td>\n",
       "      <td>1164.537470</td>\n",
       "      <td>23374.226788</td>\n",
       "      <td>MULTIPOLYGON (((-647690.945 1446931.542, -6476...</td>\n",
       "    </tr>\n",
       "    <tr>\n",
       "      <th>3</th>\n",
       "      <td>351623000000004</td>\n",
       "      <td>1623</td>\n",
       "      <td>5.206379</td>\n",
       "      <td>24</td>\n",
       "      <td>24</td>\n",
       "      <td>24</td>\n",
       "      <td>27</td>\n",
       "      <td>236</td>\n",
       "      <td>24</td>\n",
       "      <td>24</td>\n",
       "      <td>...</td>\n",
       "      <td>35</td>\n",
       "      <td>3530</td>\n",
       "      <td>30</td>\n",
       "      <td>Union</td>\n",
       "      <td>059</td>\n",
       "      <td>-647642.6595</td>\n",
       "      <td>1.446862e+06</td>\n",
       "      <td>760.543172</td>\n",
       "      <td>21069.554571</td>\n",
       "      <td>MULTIPOLYGON (((-647551.581 1446961.252, -6475...</td>\n",
       "    </tr>\n",
       "    <tr>\n",
       "      <th>4</th>\n",
       "      <td>351623000000005</td>\n",
       "      <td>1623</td>\n",
       "      <td>50.284176</td>\n",
       "      <td>24</td>\n",
       "      <td>24</td>\n",
       "      <td>24</td>\n",
       "      <td>27</td>\n",
       "      <td>236</td>\n",
       "      <td>24</td>\n",
       "      <td>24</td>\n",
       "      <td>...</td>\n",
       "      <td>35</td>\n",
       "      <td>3530</td>\n",
       "      <td>30</td>\n",
       "      <td>Union</td>\n",
       "      <td>059</td>\n",
       "      <td>-647922.0470</td>\n",
       "      <td>1.447090e+06</td>\n",
       "      <td>2879.640092</td>\n",
       "      <td>203493.655293</td>\n",
       "      <td>MULTIPOLYGON (((-647931.78 1447262.657, -64790...</td>\n",
       "    </tr>\n",
       "  </tbody>\n",
       "</table>\n",
       "<p>5 rows × 21 columns</p>\n",
       "</div>"
      ],
      "text/plain": [
       "             CSBID CSBYEARS   CSBACRES  CDL2016  CDL2017  CDL2018  CDL2019  \\\n",
       "0  351623000000001     1623   2.777984       24       24       24      152   \n",
       "1  351623000000002     1623   9.293348       24       24       24       24   \n",
       "2  351623000000003     1623   5.775874       24       24       24       24   \n",
       "3  351623000000004     1623   5.206379       24       24       24       27   \n",
       "4  351623000000005     1623  50.284176       24       24       24       27   \n",
       "\n",
       "   CDL2020  CDL2021  CDL2022  ...  STATEFIPS STATEASD ASD   CNTY CNTYFIPS  \\\n",
       "0      152      152      152  ...         35     3530  30  Union      059   \n",
       "1       24       24       24  ...         35     3530  30  Union      059   \n",
       "2       24       24       24  ...         35     3530  30  Union      059   \n",
       "3      236       24       24  ...         35     3530  30  Union      059   \n",
       "4      236       24       24  ...         35     3530  30  Union      059   \n",
       "\n",
       "      INSIDE_X      INSIDE_Y  Shape_Length     Shape_Area  \\\n",
       "0 -650336.7078  1.447441e+06    628.315309   11242.149046   \n",
       "1 -648203.5992  1.447142e+06   1042.818836   37608.996229   \n",
       "2 -647571.4914  1.447064e+06   1164.537470   23374.226788   \n",
       "3 -647642.6595  1.446862e+06    760.543172   21069.554571   \n",
       "4 -647922.0470  1.447090e+06   2879.640092  203493.655293   \n",
       "\n",
       "                                            geometry  \n",
       "0  MULTIPOLYGON (((-650269.88 1447270.097, -65029...  \n",
       "1  MULTIPOLYGON (((-648233.79 1447215.119, -64810...  \n",
       "2  MULTIPOLYGON (((-647690.945 1446931.542, -6476...  \n",
       "3  MULTIPOLYGON (((-647551.581 1446961.252, -6475...  \n",
       "4  MULTIPOLYGON (((-647931.78 1447262.657, -64790...  \n",
       "\n",
       "[5 rows x 21 columns]"
      ]
     },
     "execution_count": 5,
     "metadata": {},
     "output_type": "execute_result"
    }
   ],
   "source": [
    "usa_fields.head()"
   ]
  },
  {
   "cell_type": "code",
   "execution_count": 7,
   "metadata": {},
   "outputs": [
    {
     "data": {
      "text/plain": [
       "Index(['CSBID', 'CSBYEARS', 'CSBACRES', 'CDL2016', 'CDL2017', 'CDL2018',\n",
       "       'CDL2019', 'CDL2020', 'CDL2021', 'CDL2022', 'CDL2023', 'STATEFIPS',\n",
       "       'STATEASD', 'ASD', 'CNTY', 'CNTYFIPS', 'INSIDE_X', 'INSIDE_Y',\n",
       "       'Shape_Length', 'Shape_Area', 'geometry'],\n",
       "      dtype='object')"
      ]
     },
     "execution_count": 7,
     "metadata": {},
     "output_type": "execute_result"
    }
   ],
   "source": [
    "usa_fields.columns"
   ]
  },
  {
   "cell_type": "code",
   "execution_count": null,
   "metadata": {},
   "outputs": [],
   "source": []
  }
 ],
 "metadata": {
  "kernelspec": {
   "display_name": "Python 3 (ipykernel)",
   "language": "python",
   "name": "python3"
  },
  "language_info": {
   "codemirror_mode": {
    "name": "ipython",
    "version": 3
   },
   "file_extension": ".py",
   "mimetype": "text/x-python",
   "name": "python",
   "nbconvert_exporter": "python",
   "pygments_lexer": "ipython3",
   "version": "3.9.6"
  }
 },
 "nbformat": 4,
 "nbformat_minor": 2
}
