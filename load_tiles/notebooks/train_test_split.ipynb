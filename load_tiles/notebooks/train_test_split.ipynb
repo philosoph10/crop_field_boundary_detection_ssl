{
 "cells": [
  {
   "cell_type": "code",
   "execution_count": 1,
   "metadata": {},
   "outputs": [],
   "source": [
    "from pathlib import Path\n",
    "\n",
    "import geopandas as gpd\n",
    "import rasterio"
   ]
  },
  {
   "cell_type": "markdown",
   "metadata": {},
   "source": [
    "2017-09-21 goes to train split!"
   ]
  },
  {
   "cell_type": "code",
   "execution_count": 6,
   "metadata": {},
   "outputs": [
    {
     "name": "stdout",
     "output_type": "stream",
     "text": [
      "20170912_075604_1032_3B_AnalyticMS: 430 fields\n",
      "20170912_075604_1032_3B_AnalyticMS: 125.45437563603846 sq.km total area\n",
      "20170501_074948_101f_3B_AnalyticMS: 461 fields\n",
      "20170501_074948_101f_3B_AnalyticMS: 108.79861753406483 sq.km total area\n",
      "20160913_074800_0e0e_3B_AnalyticMS: 698 fields\n",
      "20160913_074800_0e0e_3B_AnalyticMS: 150.87390030950627 sq.km total area\n",
      "20170921_075107_0f15_3B_AnalyticMS: 440 fields\n",
      "20170921_075107_0f15_3B_AnalyticMS: 54.67739498092448 sq.km total area\n",
      "20180410_082051_0f42_3B_AnalyticMS: 700 fields\n",
      "20180410_082051_0f42_3B_AnalyticMS: 168.78295867564526 sq.km total area\n",
      "20170916_074939_0f17_3B_AnalyticMS: 232 fields\n",
      "20170916_074939_0f17_3B_AnalyticMS: 70.51298575734012 sq.km total area\n",
      "Total fields: 2961\n"
     ]
    }
   ],
   "source": [
    "geometries_dir = Path(\"/Users/Shared/Quantum/Projects/plot_boundary_detection/data/satellite_imagery/planet/kharkiv_2016/gt_data\")\n",
    "fields_geometries_list = list(geometries_dir.glob(\"*MS.geojson\"))\n",
    "\n",
    "fields_count = 0\n",
    "for field_geometry_path in fields_geometries_list:\n",
    "    gdf = gpd.read_file(field_geometry_path)\n",
    "    gdf = gdf.to_crs(\"EPSG:32636\")\n",
    "    print(f\"{field_geometry_path.stem}: {gdf.shape[0]} fields\")\n",
    "    total_area = sum(geom.area for geom in gdf['geometry'])\n",
    "    print(f\"{field_geometry_path.stem}: {total_area / 1_000_000} sq.km total area\")\n",
    "    fields_count += gdf.shape[0]\n",
    "\n",
    "print(f\"Total fields: {fields_count}\")"
   ]
  },
  {
   "cell_type": "code",
   "execution_count": 8,
   "metadata": {},
   "outputs": [
    {
     "name": "stdout",
     "output_type": "stream",
     "text": [
      "Train:\n",
      "\tField count: 53.02%\n",
      "\tField area: 51.38%\n",
      "Val:\n",
      "\tField count: 23.57%\n",
      "\tField area: 22.22%\n",
      "Test:\n",
      "\tField count: 23.4%\n",
      "\tField area: 26.4%\n"
     ]
    }
   ],
   "source": [
    "images_by_split = {\n",
    "    \"train\": [\"20170912_075604_1032_3B_AnalyticMS\", \"20180410_082051_0f42_3B_AnalyticMS\", \"20170921_075107_0f15_3B_AnalyticMS\"],\n",
    "    \"val\": [\"20160913_074800_0e0e_3B_AnalyticMS\"],\n",
    "    \"test\": [\"20170916_074939_0f17_3B_AnalyticMS\", \"20170501_074948_101f_3B_AnalyticMS\"],\n",
    "}\n",
    "\n",
    "total_fields = {\"train\": 0, \"val\": 0, \"test\": 0, \"total\": 0}\n",
    "total_areas = {\"train\": 0, \"val\": 0, \"test\": 0, \"total\": 0}\n",
    "\n",
    "for field_geometry_path in fields_geometries_list:\n",
    "    gdf = gpd.read_file(field_geometry_path)\n",
    "    gdf = gdf.to_crs(\"EPSG:32636\")\n",
    "\n",
    "    fields_count = gdf.shape[0]\n",
    "    fields_area = sum(geom.area for geom in gdf['geometry']) / 1_000_000\n",
    "\n",
    "    total_fields[\"total\"] += fields_count\n",
    "    total_areas[\"total\"] += fields_area\n",
    "\n",
    "    for split in [\"train\", \"val\", \"test\"]:\n",
    "        if field_geometry_path.stem in images_by_split[split]:\n",
    "            total_fields[split] += fields_count\n",
    "            total_areas[split] += fields_area\n",
    "\n",
    "for split in [\"train\", \"val\", \"test\"]:\n",
    "    print(split.capitalize() + \":\")\n",
    "    print(f\"\\tField count: {round(total_fields[split] / total_fields['total'] * 100, 2)}%\")\n",
    "    print(f\"\\tField area: {round(total_areas[split] / total_areas['total'] * 100, 2)}%\")"
   ]
  },
  {
   "cell_type": "code",
   "execution_count": null,
   "metadata": {},
   "outputs": [],
   "source": []
  }
 ],
 "metadata": {
  "kernelspec": {
   "display_name": "Python 3 (ipykernel)",
   "language": "python",
   "name": "python3"
  }
 },
 "nbformat": 4,
 "nbformat_minor": 2
}
